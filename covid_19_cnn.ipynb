{
 "cells": [
  {
   "cell_type": "code",
   "execution_count": 1,
   "metadata": {},
   "outputs": [
    {
     "name": "stderr",
     "output_type": "stream",
     "text": [
      "Using TensorFlow backend.\n",
      "c:\\users\\kullanıcı\\appdata\\local\\programs\\python\\python37\\lib\\site-packages\\tensorflow\\python\\framework\\dtypes.py:526: FutureWarning: Passing (type, 1) or '1type' as a synonym of type is deprecated; in a future version of numpy, it will be understood as (type, (1,)) / '(1,)type'.\n",
      "  _np_qint8 = np.dtype([(\"qint8\", np.int8, 1)])\n",
      "c:\\users\\kullanıcı\\appdata\\local\\programs\\python\\python37\\lib\\site-packages\\tensorflow\\python\\framework\\dtypes.py:527: FutureWarning: Passing (type, 1) or '1type' as a synonym of type is deprecated; in a future version of numpy, it will be understood as (type, (1,)) / '(1,)type'.\n",
      "  _np_quint8 = np.dtype([(\"quint8\", np.uint8, 1)])\n",
      "c:\\users\\kullanıcı\\appdata\\local\\programs\\python\\python37\\lib\\site-packages\\tensorflow\\python\\framework\\dtypes.py:528: FutureWarning: Passing (type, 1) or '1type' as a synonym of type is deprecated; in a future version of numpy, it will be understood as (type, (1,)) / '(1,)type'.\n",
      "  _np_qint16 = np.dtype([(\"qint16\", np.int16, 1)])\n",
      "c:\\users\\kullanıcı\\appdata\\local\\programs\\python\\python37\\lib\\site-packages\\tensorflow\\python\\framework\\dtypes.py:529: FutureWarning: Passing (type, 1) or '1type' as a synonym of type is deprecated; in a future version of numpy, it will be understood as (type, (1,)) / '(1,)type'.\n",
      "  _np_quint16 = np.dtype([(\"quint16\", np.uint16, 1)])\n",
      "c:\\users\\kullanıcı\\appdata\\local\\programs\\python\\python37\\lib\\site-packages\\tensorflow\\python\\framework\\dtypes.py:530: FutureWarning: Passing (type, 1) or '1type' as a synonym of type is deprecated; in a future version of numpy, it will be understood as (type, (1,)) / '(1,)type'.\n",
      "  _np_qint32 = np.dtype([(\"qint32\", np.int32, 1)])\n",
      "c:\\users\\kullanıcı\\appdata\\local\\programs\\python\\python37\\lib\\site-packages\\tensorflow\\python\\framework\\dtypes.py:535: FutureWarning: Passing (type, 1) or '1type' as a synonym of type is deprecated; in a future version of numpy, it will be understood as (type, (1,)) / '(1,)type'.\n",
      "  np_resource = np.dtype([(\"resource\", np.ubyte, 1)])\n"
     ]
    }
   ],
   "source": [
    "from keras.models import Sequential\n",
    "from keras.layers import Convolution2D\n",
    "from keras.layers import MaxPooling2D\n",
    "from keras.layers import Flatten, Dropout\n",
    "from keras.layers import Dense"
   ]
  },
  {
   "cell_type": "code",
   "execution_count": 2,
   "metadata": {},
   "outputs": [],
   "source": [
    "import cv2 \n",
    "import pandas as pd\n",
    "import numpy as np\n",
    "from sklearn import metrics, model_selection, linear_model\n",
    "from keras import models, layers\n",
    "import matplotlib.pyplot as plt\n",
    "import os"
   ]
  },
  {
   "cell_type": "code",
   "execution_count": 3,
   "metadata": {},
   "outputs": [],
   "source": [
    "classifier = Sequential()"
   ]
  },
  {
   "cell_type": "code",
   "execution_count": 4,
   "metadata": {},
   "outputs": [
    {
     "name": "stdout",
     "output_type": "stream",
     "text": [
      "WARNING:tensorflow:From c:\\users\\kullanıcı\\appdata\\local\\programs\\python\\python37\\lib\\site-packages\\tensorflow\\python\\ops\\resource_variable_ops.py:435: colocate_with (from tensorflow.python.framework.ops) is deprecated and will be removed in a future version.\n",
      "Instructions for updating:\n",
      "Colocations handled automatically by placer.\n"
     ]
    },
    {
     "name": "stderr",
     "output_type": "stream",
     "text": [
      "c:\\users\\kullanıcı\\appdata\\local\\programs\\python\\python37\\lib\\site-packages\\ipykernel_launcher.py:19: UserWarning: Update your `Dense` call to the Keras 2 API: `Dense(activation=\"sigmoid\", units=1)`\n"
     ]
    }
   ],
   "source": [
    "classifier.add(Convolution2D(32,(3,3), input_shape=(64,64,3), activation=\"relu\"))\n",
    "classifier.add(MaxPooling2D(pool_size=(2,2)))\n",
    "classifier.add(Dropout(rate=0.3))\n",
    "\n",
    "classifier.add(Convolution2D(32,(3,3), activation=\"relu\"))\n",
    "classifier.add(MaxPooling2D(pool_size=(2,2)))\n",
    "classifier.add(Dropout(rate=0.2))\n",
    "\n",
    "classifier.add(Convolution2D(55,(3,3), activation=\"relu\"))\n",
    "classifier.add(MaxPooling2D(pool_size=(2,2)))\n",
    "classifier.add(Dropout(rate=0.15))\n",
    "\n",
    "classifier.add(Flatten())\n",
    "\n",
    "classifier.add(Dense(units=128, activation=\"relu\")) \n",
    "classifier.add(Dropout(rate=0.15))\n",
    "classifier.add(Dense(units=8, activation=\"relu\"))\n",
    "classifier.add(Dropout(rate=0.1))\n",
    "classifier.add(Dense(output_dim=1, activation=\"sigmoid\"))"
   ]
  },
  {
   "cell_type": "code",
   "execution_count": 5,
   "metadata": {},
   "outputs": [
    {
     "name": "stdout",
     "output_type": "stream",
     "text": [
      "Model: \"sequential_1\"\n",
      "_________________________________________________________________\n",
      "Layer (type)                 Output Shape              Param #   \n",
      "=================================================================\n",
      "conv2d_1 (Conv2D)            (None, 62, 62, 32)        896       \n",
      "_________________________________________________________________\n",
      "max_pooling2d_1 (MaxPooling2 (None, 31, 31, 32)        0         \n",
      "_________________________________________________________________\n",
      "dropout_1 (Dropout)          (None, 31, 31, 32)        0         \n",
      "_________________________________________________________________\n",
      "conv2d_2 (Conv2D)            (None, 29, 29, 32)        9248      \n",
      "_________________________________________________________________\n",
      "max_pooling2d_2 (MaxPooling2 (None, 14, 14, 32)        0         \n",
      "_________________________________________________________________\n",
      "dropout_2 (Dropout)          (None, 14, 14, 32)        0         \n",
      "_________________________________________________________________\n",
      "conv2d_3 (Conv2D)            (None, 12, 12, 55)        15895     \n",
      "_________________________________________________________________\n",
      "max_pooling2d_3 (MaxPooling2 (None, 6, 6, 55)          0         \n",
      "_________________________________________________________________\n",
      "dropout_3 (Dropout)          (None, 6, 6, 55)          0         \n",
      "_________________________________________________________________\n",
      "flatten_1 (Flatten)          (None, 1980)              0         \n",
      "_________________________________________________________________\n",
      "dense_1 (Dense)              (None, 128)               253568    \n",
      "_________________________________________________________________\n",
      "dropout_4 (Dropout)          (None, 128)               0         \n",
      "_________________________________________________________________\n",
      "dense_2 (Dense)              (None, 8)                 1032      \n",
      "_________________________________________________________________\n",
      "dropout_5 (Dropout)          (None, 8)                 0         \n",
      "_________________________________________________________________\n",
      "dense_3 (Dense)              (None, 1)                 9         \n",
      "=================================================================\n",
      "Total params: 280,648\n",
      "Trainable params: 280,648\n",
      "Non-trainable params: 0\n",
      "_________________________________________________________________\n"
     ]
    }
   ],
   "source": [
    "classifier.summary()"
   ]
  },
  {
   "cell_type": "code",
   "execution_count": 6,
   "metadata": {},
   "outputs": [],
   "source": [
    "classifier.compile(optimizer=\"adam\", loss=\"binary_crossentropy\", metrics= [\"accuracy\"])"
   ]
  },
  {
   "cell_type": "code",
   "execution_count": 7,
   "metadata": {},
   "outputs": [],
   "source": [
    "from keras.preprocessing.image import ImageDataGenerator"
   ]
  },
  {
   "cell_type": "code",
   "execution_count": 10,
   "metadata": {},
   "outputs": [
    {
     "name": "stdout",
     "output_type": "stream",
     "text": [
      "Found 500 images belonging to 2 classes.\n",
      "Found 125 images belonging to 2 classes.\n"
     ]
    }
   ],
   "source": [
    "train_datagen = ImageDataGenerator(\n",
    "                                    rescale=1./255,\n",
    "                                    shear_range=0.2,\n",
    "                                    zoom_range=0.2,\n",
    "                                    horizontal_flip=True)\n",
    "\n",
    "test_datagen = ImageDataGenerator(rescale=1./255)\n",
    "\n",
    "training_set = train_datagen.flow_from_directory('dataset/train',\n",
    "                                                  target_size=(64, 64),\n",
    "                                                  batch_size=32,\n",
    "                                                  class_mode='binary')\n",
    "\n",
    "test_set = test_datagen.flow_from_directory('dataset/test',\n",
    "                                            target_size=(64, 64),\n",
    "                                            batch_size=32,\n",
    "                                            class_mode='binary')"
   ]
  },
  {
   "cell_type": "code",
   "execution_count": 11,
   "metadata": {},
   "outputs": [
    {
     "name": "stdout",
     "output_type": "stream",
     "text": [
      "WARNING:tensorflow:From c:\\users\\kullanıcı\\appdata\\local\\programs\\python\\python37\\lib\\site-packages\\tensorflow\\python\\ops\\math_ops.py:3066: to_int32 (from tensorflow.python.ops.math_ops) is deprecated and will be removed in a future version.\n",
      "Instructions for updating:\n",
      "Use tf.cast instead.\n",
      "Epoch 1/20\n",
      "100/100 [==============================] - 167s 2s/step - loss: 0.4682 - accuracy: 0.7983 - val_loss: 0.3641 - val_accuracy: 0.8000\n",
      "Epoch 2/20\n",
      "100/100 [==============================] - 137s 1s/step - loss: 0.2728 - accuracy: 0.8788 - val_loss: 0.2502 - val_accuracy: 0.9360\n",
      "Epoch 3/20\n",
      "100/100 [==============================] - 138s 1s/step - loss: 0.2430 - accuracy: 0.8986 - val_loss: 0.1422 - val_accuracy: 0.9600\n",
      "Epoch 4/20\n",
      "100/100 [==============================] - 144s 1s/step - loss: 0.2094 - accuracy: 0.9204 - val_loss: 0.0894 - val_accuracy: 0.9600\n",
      "Epoch 5/20\n",
      "100/100 [==============================] - 140s 1s/step - loss: 0.1958 - accuracy: 0.9287 - val_loss: 0.0479 - val_accuracy: 0.9520\n",
      "Epoch 6/20\n",
      "100/100 [==============================] - 141s 1s/step - loss: 0.1805 - accuracy: 0.9316 - val_loss: 0.1234 - val_accuracy: 0.9440\n",
      "Epoch 7/20\n",
      "100/100 [==============================] - 144s 1s/step - loss: 0.1821 - accuracy: 0.9304 - val_loss: 0.1082 - val_accuracy: 0.9520\n",
      "Epoch 8/20\n",
      "100/100 [==============================] - 155s 2s/step - loss: 0.1528 - accuracy: 0.9460 - val_loss: 0.2459 - val_accuracy: 0.9360\n",
      "Epoch 9/20\n",
      "100/100 [==============================] - 141s 1s/step - loss: 0.1514 - accuracy: 0.9402 - val_loss: 0.1710 - val_accuracy: 0.9440\n",
      "Epoch 10/20\n",
      "100/100 [==============================] - 147s 1s/step - loss: 0.1463 - accuracy: 0.9434 - val_loss: 0.1511 - val_accuracy: 0.9600\n",
      "Epoch 11/20\n",
      "100/100 [==============================] - 142s 1s/step - loss: 0.1464 - accuracy: 0.9454 - val_loss: 0.1460 - val_accuracy: 0.9440\n",
      "Epoch 12/20\n",
      "100/100 [==============================] - 143s 1s/step - loss: 0.1429 - accuracy: 0.9492 - val_loss: 0.0099 - val_accuracy: 0.9440\n",
      "Epoch 13/20\n",
      "100/100 [==============================] - 136s 1s/step - loss: 0.1495 - accuracy: 0.9442 - val_loss: 0.0604 - val_accuracy: 0.9520\n",
      "Epoch 14/20\n",
      "100/100 [==============================] - 137s 1s/step - loss: 0.1213 - accuracy: 0.9532 - val_loss: 0.4914 - val_accuracy: 0.9520\n",
      "Epoch 15/20\n",
      "100/100 [==============================] - 138s 1s/step - loss: 0.1212 - accuracy: 0.9544 - val_loss: 0.1555 - val_accuracy: 0.9520\n",
      "Epoch 16/20\n",
      "100/100 [==============================] - 147s 1s/step - loss: 0.1126 - accuracy: 0.9575 - val_loss: 0.0344 - val_accuracy: 0.9520\n",
      "Epoch 17/20\n",
      "100/100 [==============================] - 139s 1s/step - loss: 0.1057 - accuracy: 0.9564 - val_loss: 0.0318 - val_accuracy: 0.9760\n",
      "Epoch 18/20\n",
      "100/100 [==============================] - 136s 1s/step - loss: 0.1019 - accuracy: 0.9648 - val_loss: 0.0154 - val_accuracy: 0.9760\n",
      "Epoch 19/20\n",
      "100/100 [==============================] - 144s 1s/step - loss: 0.0873 - accuracy: 0.9717 - val_loss: 0.6351 - val_accuracy: 0.9360\n",
      "Epoch 20/20\n",
      "100/100 [==============================] - 145s 1s/step - loss: 0.0864 - accuracy: 0.9689 - val_loss: 0.3370 - val_accuracy: 0.9600\n"
     ]
    },
    {
     "data": {
      "text/plain": [
       "<keras.callbacks.callbacks.History at 0x1d4a7ec8>"
      ]
     },
     "execution_count": 11,
     "metadata": {},
     "output_type": "execute_result"
    }
   ],
   "source": [
    "classifier.fit_generator(\n",
    "        training_set,\n",
    "        steps_per_epoch=100,\n",
    "        epochs=20,\n",
    "        validation_data= test_set,\n",
    "        validation_steps=100)"
   ]
  },
  {
   "cell_type": "code",
   "execution_count": null,
   "metadata": {},
   "outputs": [],
   "source": []
  }
 ],
 "metadata": {
  "kernelspec": {
   "display_name": "Python 3",
   "language": "python",
   "name": "python3"
  },
  "language_info": {
   "codemirror_mode": {
    "name": "ipython",
    "version": 3
   },
   "file_extension": ".py",
   "mimetype": "text/x-python",
   "name": "python",
   "nbconvert_exporter": "python",
   "pygments_lexer": "ipython3",
   "version": "3.7.4"
  }
 },
 "nbformat": 4,
 "nbformat_minor": 4
}
