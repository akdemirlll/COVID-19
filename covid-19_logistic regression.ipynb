{
 "cells": [
  {
   "cell_type": "code",
   "execution_count": 17,
   "metadata": {},
   "outputs": [
    {
     "name": "stderr",
     "output_type": "stream",
     "text": [
      "Using TensorFlow backend.\n",
      "C:\\Users\\pc\\Desktop\\python-calismalar\\DL3.7\\lib\\site-packages\\tensorflow\\python\\framework\\dtypes.py:516: FutureWarning: Passing (type, 1) or '1type' as a synonym of type is deprecated; in a future version of numpy, it will be understood as (type, (1,)) / '(1,)type'.\n",
      "  _np_qint8 = np.dtype([(\"qint8\", np.int8, 1)])\n",
      "C:\\Users\\pc\\Desktop\\python-calismalar\\DL3.7\\lib\\site-packages\\tensorflow\\python\\framework\\dtypes.py:517: FutureWarning: Passing (type, 1) or '1type' as a synonym of type is deprecated; in a future version of numpy, it will be understood as (type, (1,)) / '(1,)type'.\n",
      "  _np_quint8 = np.dtype([(\"quint8\", np.uint8, 1)])\n",
      "C:\\Users\\pc\\Desktop\\python-calismalar\\DL3.7\\lib\\site-packages\\tensorflow\\python\\framework\\dtypes.py:518: FutureWarning: Passing (type, 1) or '1type' as a synonym of type is deprecated; in a future version of numpy, it will be understood as (type, (1,)) / '(1,)type'.\n",
      "  _np_qint16 = np.dtype([(\"qint16\", np.int16, 1)])\n",
      "C:\\Users\\pc\\Desktop\\python-calismalar\\DL3.7\\lib\\site-packages\\tensorflow\\python\\framework\\dtypes.py:519: FutureWarning: Passing (type, 1) or '1type' as a synonym of type is deprecated; in a future version of numpy, it will be understood as (type, (1,)) / '(1,)type'.\n",
      "  _np_quint16 = np.dtype([(\"quint16\", np.uint16, 1)])\n",
      "C:\\Users\\pc\\Desktop\\python-calismalar\\DL3.7\\lib\\site-packages\\tensorflow\\python\\framework\\dtypes.py:520: FutureWarning: Passing (type, 1) or '1type' as a synonym of type is deprecated; in a future version of numpy, it will be understood as (type, (1,)) / '(1,)type'.\n",
      "  _np_qint32 = np.dtype([(\"qint32\", np.int32, 1)])\n",
      "C:\\Users\\pc\\Desktop\\python-calismalar\\DL3.7\\lib\\site-packages\\tensorflow\\python\\framework\\dtypes.py:525: FutureWarning: Passing (type, 1) or '1type' as a synonym of type is deprecated; in a future version of numpy, it will be understood as (type, (1,)) / '(1,)type'.\n",
      "  np_resource = np.dtype([(\"resource\", np.ubyte, 1)])\n",
      "C:\\Users\\pc\\Desktop\\python-calismalar\\DL3.7\\lib\\site-packages\\tensorboard\\compat\\tensorflow_stub\\dtypes.py:541: FutureWarning: Passing (type, 1) or '1type' as a synonym of type is deprecated; in a future version of numpy, it will be understood as (type, (1,)) / '(1,)type'.\n",
      "  _np_qint8 = np.dtype([(\"qint8\", np.int8, 1)])\n",
      "C:\\Users\\pc\\Desktop\\python-calismalar\\DL3.7\\lib\\site-packages\\tensorboard\\compat\\tensorflow_stub\\dtypes.py:542: FutureWarning: Passing (type, 1) or '1type' as a synonym of type is deprecated; in a future version of numpy, it will be understood as (type, (1,)) / '(1,)type'.\n",
      "  _np_quint8 = np.dtype([(\"quint8\", np.uint8, 1)])\n",
      "C:\\Users\\pc\\Desktop\\python-calismalar\\DL3.7\\lib\\site-packages\\tensorboard\\compat\\tensorflow_stub\\dtypes.py:543: FutureWarning: Passing (type, 1) or '1type' as a synonym of type is deprecated; in a future version of numpy, it will be understood as (type, (1,)) / '(1,)type'.\n",
      "  _np_qint16 = np.dtype([(\"qint16\", np.int16, 1)])\n",
      "C:\\Users\\pc\\Desktop\\python-calismalar\\DL3.7\\lib\\site-packages\\tensorboard\\compat\\tensorflow_stub\\dtypes.py:544: FutureWarning: Passing (type, 1) or '1type' as a synonym of type is deprecated; in a future version of numpy, it will be understood as (type, (1,)) / '(1,)type'.\n",
      "  _np_quint16 = np.dtype([(\"quint16\", np.uint16, 1)])\n",
      "C:\\Users\\pc\\Desktop\\python-calismalar\\DL3.7\\lib\\site-packages\\tensorboard\\compat\\tensorflow_stub\\dtypes.py:545: FutureWarning: Passing (type, 1) or '1type' as a synonym of type is deprecated; in a future version of numpy, it will be understood as (type, (1,)) / '(1,)type'.\n",
      "  _np_qint32 = np.dtype([(\"qint32\", np.int32, 1)])\n",
      "C:\\Users\\pc\\Desktop\\python-calismalar\\DL3.7\\lib\\site-packages\\tensorboard\\compat\\tensorflow_stub\\dtypes.py:550: FutureWarning: Passing (type, 1) or '1type' as a synonym of type is deprecated; in a future version of numpy, it will be understood as (type, (1,)) / '(1,)type'.\n",
      "  np_resource = np.dtype([(\"resource\", np.ubyte, 1)])\n"
     ]
    }
   ],
   "source": [
    "import cv2\n",
    "import pandas as pd\n",
    "import numpy as np\n",
    "from sklearn import metrics, model_selection, linear_model\n",
    "from keras import models, layers"
   ]
  },
  {
   "cell_type": "code",
   "execution_count": 18,
   "metadata": {},
   "outputs": [],
   "source": [
    "import matplotlib.pyplot as plt\n",
    "import os"
   ]
  },
  {
   "cell_type": "code",
   "execution_count": 10,
   "metadata": {},
   "outputs": [
    {
     "name": "stdout",
     "output_type": "stream",
     "text": [
      " Volume in drive C has no label.\n",
      " Volume Serial Number is 282C-1E0C\n",
      "\n",
      " Directory of C:\\Users\\pc\\Desktop\\COVID-19\\X-Ray Image DataSet\\Covid-19\n",
      "\n",
      "10.10.2020  01:26    <DIR>          .\n",
      "10.10.2020  01:26    <DIR>          ..\n",
      "10.10.2020  01:26           212.760 01E392EE-69F9-4E33-BFCE-E5C968654078.jpeg\n",
      "10.10.2020  01:26           229.366 03BF7561-A9BA-4C3C-B8A0-D3E585F73F3C.jpeg\n",
      "10.10.2020  01:26           203.467 1.CXRCTThoraximagesofCOVID-19fromSingapore.pdf-000-fig1a.png\n",
      "10.10.2020  01:26           206.945 1.CXRCTThoraximagesofCOVID-19fromSingapore.pdf-000-fig1b.png\n",
      "10.10.2020  01:26           195.974 1.CXRCTThoraximagesofCOVID-19fromSingapore.pdf-001-fig2a.png\n",
      "10.10.2020  01:26           164.441 1.CXRCTThoraximagesofCOVID-19fromSingapore.pdf-001-fig2b.png\n",
      "10.10.2020  01:26           185.876 1.CXRCTThoraximagesofCOVID-19fromSingapore.pdf-002-fig3a.png\n",
      "10.10.2020  01:26           187.139 1.CXRCTThoraximagesofCOVID-19fromSingapore.pdf-002-fig3b.png\n",
      "10.10.2020  01:26           194.244 1.CXRCTThoraximagesofCOVID-19fromSingapore.pdf-003-fig4a.png\n",
      "10.10.2020  01:26           205.805 1.CXRCTThoraximagesofCOVID-19fromSingapore.pdf-003-fig4b.png\n",
      "10.10.2020  01:26           198.417 1312A392-67A3-4EBF-9319-810CF6DA5EF6.jpeg\n",
      "10.10.2020  01:26           586.108 171CB377-62FF-4B76-906C-F3787A01CB2E.jpeg\n",
      "10.10.2020  01:26           276.007 1B734A89-A1BF-49A8-A1D3-66FAFA4FAC5D.jpeg\n",
      "10.10.2020  01:26           651.593 1F6343EE-AFEC-4B7D-97F5-62797EE18767.jpeg\n",
      "10.10.2020  01:26           566.470 1-s2.0-S0140673620303706-fx1_lrg.jpg\n",
      "10.10.2020  01:26           172.508 1-s2.0-S0929664620300449-gr2_lrg-a.jpg\n",
      "10.10.2020  01:26           238.868 1-s2.0-S0929664620300449-gr2_lrg-b.jpg\n",
      "10.10.2020  01:26           271.911 1-s2.0-S0929664620300449-gr2_lrg-c.jpg\n",
      "10.10.2020  01:26           159.400 1-s2.0-S0929664620300449-gr2_lrg-d.jpg\n",
      "10.10.2020  01:26            13.456 1-s2.0-S1684118220300608-main.pdf-001.jpg\n",
      "10.10.2020  01:26            18.001 1-s2.0-S1684118220300608-main.pdf-002.jpg\n",
      "10.10.2020  01:26            96.081 1-s2.0-S1684118220300682-main.pdf-002-a1.png\n",
      "10.10.2020  01:26           114.532 1-s2.0-S1684118220300682-main.pdf-002-a2.png\n",
      "10.10.2020  01:26           104.611 1-s2.0-S1684118220300682-main.pdf-003-b1.png\n",
      "10.10.2020  01:26           120.699 1-s2.0-S1684118220300682-main.pdf-003-b2.png\n",
      "10.10.2020  01:26         1.390.872 23E99E2E-447C-46E5-8EB2-D35D12473C39.png\n",
      "10.10.2020  01:26           218.985 2966893D-5DDF-4B68-9E2B-4979D5956C8E.jpeg\n",
      "10.10.2020  01:26           119.827 2B8649B2-00C4-4233-85D5-1CE240CF233B.jpeg\n",
      "10.10.2020  01:26         2.494.019 2C10A413-AABE-4807-8CCE-6A2025594067.jpeg\n",
      "10.10.2020  01:26           371.543 2C26F453-AF3B-4517-BB9E-802CF2179543.jpeg\n",
      "10.10.2020  01:26           119.096 31BA3780-2323-493F-8AED-62081B9C383B.jpeg\n",
      "10.10.2020  01:26         1.137.415 353889E0-A1E8-4F9E-A0B8-F24F36BCFBFB.jpeg\n",
      "10.10.2020  01:26           313.533 39EE8E69-5801-48DE-B6E3-BE7D1BCF3092.jpeg\n",
      "10.10.2020  01:26            35.840 41591_2020_819_Fig1_HTML.webp-day10.png\n",
      "10.10.2020  01:26            41.012 41591_2020_819_Fig1_HTML.webp-day5.png\n",
      "10.10.2020  01:26           915.188 446B2CB6-B572-40AB-B01F-1910CA07086A.jpeg\n",
      "10.10.2020  01:26           139.468 53EC07C9-5CC6-4BE4-9B6F-D7B0D72AAA7E.jpeg\n",
      "10.10.2020  01:26           107.875 58cb9263f16e94305c730685358e4e_jumbo.jpeg\n",
      "10.10.2020  01:26           546.820 5931B64A-7B97-485D-BE60-3F1EA76BC4F0.jpeg\n",
      "10.10.2020  01:26           534.745 5A78BCA9-5B7A-440D-8A4E-AE7710EA6EAD.jpeg\n",
      "10.10.2020  01:26           805.305 5CBC2E94-D358-401E-8928-965CCD965C5C.jpeg\n",
      "10.10.2020  01:26           173.340 5e6dd879fde9502400e58b2f.jpeg\n",
      "10.10.2020  01:26           199.775 6b44464d-73a7-4cf3-bbb6-ffe7168300e3.annot.original.jpeg\n",
      "10.10.2020  01:26           156.673 6C94A287-C059-46A0-8600-AFB95F4727B7.jpeg\n",
      "10.10.2020  01:26           437.552 6CB4EFC6-68FA-4CD5-940C-BEFA8DAFE9A7.jpeg\n",
      "10.10.2020  01:26           192.866 7AF6C1AF-D249-4BD2-8C26-449304105D03.jpeg\n",
      "10.10.2020  01:26           256.553 7C69C012-7479-493F-8722-ABC29C60A2DD.jpeg\n",
      "10.10.2020  01:26            64.342 7D2CF6CE-F529-4470-8356-D33FFAF98600.jpeg\n",
      "10.10.2020  01:26         1.462.259 7E335538-2F86-424E-A0AB-6397783A38D0.jpeg\n",
      "10.10.2020  01:26         1.198.787 7EF28E12-F628-4BEC-A8C5-E6277C2E4F60.png\n",
      "10.10.2020  01:26            76.434 80446565-E090-4187-A031-9D3CEAA586C8.jpeg\n",
      "10.10.2020  01:26           195.339 85E52EB3-56E9-4D67-82DA-DEA247C82886.jpeg\n",
      "10.10.2020  01:26            96.448 8FDE8DBA-CFBD-4B4C-B1A4-6F36A93B7E87.jpeg\n",
      "10.10.2020  01:26           350.316 93FE0BB1-022D-4F24-9727-987A07975FFB.jpeg\n",
      "10.10.2020  01:26           141.075 9C34AF49-E589-44D5-92D3-168B3B04E4A6.jpeg\n",
      "10.10.2020  01:26           115.533 9fdd3c3032296fd04d2cad5d9070d4_jumbo.jpeg\n",
      "10.10.2020  01:26            67.998 all14238-fig-0001-m-b.jpg\n",
      "10.10.2020  01:26            66.862 all14238-fig-0001-m-c.jpg\n",
      "10.10.2020  01:26            42.405 all14238-fig-0002-m-d.jpg\n",
      "10.10.2020  01:26            59.477 all14238-fig-0002-m-e.jpg\n",
      "10.10.2020  01:26            58.043 all14238-fig-0002-m-f.jpg\n",
      "10.10.2020  01:26           134.512 auntminnie-a-2020_01_28_23_51_6665_2020_01_28_Vietnam_coronavirus.jpeg\n",
      "10.10.2020  01:26           130.226 auntminnie-b-2020_01_28_23_51_6665_2020_01_28_Vietnam_coronavirus.jpeg\n",
      "10.10.2020  01:26           131.169 auntminnie-c-2020_01_28_23_51_6665_2020_01_28_Vietnam_coronavirus.jpeg\n",
      "10.10.2020  01:26           117.814 auntminnie-d-2020_01_28_23_51_6665_2020_01_28_Vietnam_coronavirus.jpeg\n",
      "10.10.2020  01:26           199.791 B2D20576-00B7-4519-A415-72DE29C90C34.jpeg\n",
      "10.10.2020  01:26           387.973 B59DD164-51D5-40DF-A926-6A42DD52EBE8.jpeg\n",
      "10.10.2020  01:26           618.327 C6EA0BE5-B01E-4113-B194-18D956675E25.jpeg\n",
      "10.10.2020  01:26           277.938 CD50BA96-6982-4C80-AE7B-5F67ACDBFA56.jpeg\n",
      "10.10.2020  01:26           157.672 ciaa199.pdf-001-a.png\n",
      "10.10.2020  01:26           149.453 ciaa199.pdf-001-b.png\n",
      "10.10.2020  01:26           139.656 ciaa199.pdf-001-c.png\n",
      "10.10.2020  01:26         1.486.277 covid-19-infection-exclusive-gastrointestinal-symptoms-pa.png\n",
      "10.10.2020  01:26         2.475.821 covid-19-pneumonia-12.jpg\n",
      "10.10.2020  01:26         4.799.182 covid-19-pneumonia-14-PA.png\n",
      "10.10.2020  01:26         1.260.460 covid-19-pneumonia-15-PA.jpg\n",
      "10.10.2020  01:26           154.724 covid-19-pneumonia-19.jpg\n",
      "10.10.2020  01:26           252.021 covid-19-pneumonia-2.jpg\n",
      "10.10.2020  01:26           442.594 covid-19-pneumonia-24-day12.jpg\n",
      "10.10.2020  01:26         3.058.336 covid-19-pneumonia-24-day6.jpg\n",
      "10.10.2020  01:26           541.044 covid-19-pneumonia-24-day7.jpg\n",
      "10.10.2020  01:26           533.471 covid-19-pneumonia-28.png\n",
      "10.10.2020  01:26           896.012 covid-19-pneumonia-30-PA.jpg\n",
      "10.10.2020  01:26           765.188 covid-19-pneumonia-7-PA.jpg\n",
      "10.10.2020  01:26            31.881 covid-19-pneumonia-evolution-over-a-week-1-day0-PA.jpg\n",
      "10.10.2020  01:26            72.001 covid-19-pneumonia-evolution-over-a-week-1-day3.jpg\n",
      "10.10.2020  01:26            60.420 covid-19-pneumonia-evolution-over-a-week-1-day4.jpg\n",
      "10.10.2020  01:26           108.067 covid-19-pneumonia-rapidly-progressive-12-hours.jpg\n",
      "10.10.2020  01:26           133.524 covid-19-pneumonia-rapidly-progressive-3-days.jpg\n",
      "10.10.2020  01:26           143.435 covid-19-pneumonia-rapidly-progressive-admission.jpg\n",
      "10.10.2020  01:26            82.440 covid-19-rapidly-progressive-acute-respiratory-distress-syndrome-ards-admission.jpg\n",
      "10.10.2020  01:26            80.049 covid-19-rapidly-progressive-acute-respiratory-distress-syndrome-ards-day-1.jpg\n",
      "10.10.2020  01:26            88.046 covid-19-rapidly-progressive-acute-respiratory-distress-syndrome-ards-day-2.jpg\n",
      "10.10.2020  01:26            70.273 D7AF463C-2369-492D-908D-BE1911CCD74C.jpeg\n",
      "10.10.2020  01:26         1.955.841 E1724330-1866-4581-8CD8-CEC9B8AFEDDE.jpeg\n",
      "10.10.2020  01:26           234.188 E63574A7-4188-4C8D-8D17-9D67A18A1AFA.jpeg\n",
      "10.10.2020  01:26           122.325 F2DE909F-E19C-4900-92F5-8F435B031AC6.jpeg\n",
      "10.10.2020  01:26           326.863 F4341CE7-73C9-45C6-99C8-8567A5484B63.jpeg\n",
      "10.10.2020  01:26           350.848 F63AB6CE-1968-4154-A70F-913AF154F53D.jpeg\n",
      "10.10.2020  01:26           104.523 FE9F9A5D-2830-46F9-851B-1FF4534959BE.jpeg\n",
      "10.10.2020  01:26           689.401 figure1-5e71be566aa8714a04de3386-98-left.jpeg\n",
      "10.10.2020  01:26           167.977 figure1-5e73d7ae897e27ff066a30cb-98.jpeg\n",
      "10.10.2020  01:26           363.730 figure1-5e75d0940b71e1b702629659-98-right.jpeg\n",
      "10.10.2020  01:26            58.702 jkms-35-e79-g001-l-a.jpg\n",
      "10.10.2020  01:26            63.209 jkms-35-e79-g001-l-b.jpg\n",
      "10.10.2020  01:26            65.661 jkms-35-e79-g001-l-c.jpg\n",
      "10.10.2020  01:26            47.531 kjr-21-e24-g001-l-a.jpg\n",
      "10.10.2020  01:26            52.327 kjr-21-e24-g002-l-a.jpg\n",
      "10.10.2020  01:26           108.962 kjr-21-e24-g003-l-a.jpg\n",
      "10.10.2020  01:26            78.152 kjr-21-e25-g001-l-a.jpg\n",
      "10.10.2020  01:26           228.947 lancet-case2a.jpg\n",
      "10.10.2020  01:26           344.665 lancet-case2b.jpg\n",
      "10.10.2020  01:26            82.014 nCoV-radiol.2020200269.fig1-day7.jpeg\n",
      "10.10.2020  01:26           175.246 nejmc2001573_f1a.jpeg\n",
      "10.10.2020  01:26           250.391 nejmc2001573_f1b.jpeg\n",
      "10.10.2020  01:26           175.367 nejmoa2001191_f1-PA.jpeg\n",
      "10.10.2020  01:26           151.075 nejmoa2001191_f3-PA.jpeg\n",
      "10.10.2020  01:26           421.668 nejmoa2001191_f4.jpeg\n",
      "10.10.2020  01:26           176.601 nejmoa2001191_f5-PA.jpeg\n",
      "10.10.2020  01:26           218.598 radiol.2020200490.fig3.jpeg\n",
      "10.10.2020  01:26         1.927.296 ryct.2020200028.fig1a.jpeg\n",
      "10.10.2020  01:26           353.973 ryct.2020200034.fig2.jpeg\n",
      "10.10.2020  01:26           135.032 ryct.2020200034.fig5-day0.jpeg\n",
      "10.10.2020  01:26           188.314 ryct.2020200034.fig5-day4.jpeg\n",
      "10.10.2020  01:26           183.260 ryct.2020200034.fig5-day7.jpeg\n",
      "             125 File(s)     50.060.783 bytes\n",
      "               2 Dir(s)  226.780.200.960 bytes free\n"
     ]
    }
   ],
   "source": [
    "ls \"X-Ray Image DataSet\\Covid-19\" "
   ]
  },
  {
   "cell_type": "code",
   "execution_count": null,
   "metadata": {},
   "outputs": [],
   "source": [
    "image = cv2.imread(\"X-Ray Image DataSet\\\\Covid-19\\\\\"+i, 0)\n",
    "image.shape"
   ]
  },
  {
   "cell_type": "code",
   "execution_count": null,
   "metadata": {},
   "outputs": [],
   "source": [
    "a = []\n",
    "for i in os.listdir(\"X-Ray Image DataSet\\\\Covid-19\\\\\"):\n",
    "    image = cv2.imread(\"X-Ray Image DataSet\\\\Covid-19\\\\\"+i, 0)\n",
    "    image = cv2.resize(image, (250, 250))\n",
    "    a.append(image)"
   ]
  },
  {
   "cell_type": "code",
   "execution_count": null,
   "metadata": {},
   "outputs": [],
   "source": [
    "b = []\n",
    "for i in os.listdir(\"X-Ray Image DataSet\\\\No_findings\\\\\"):\n",
    "    image = cv2.imread(\"X-Ray Image DataSet\\\\No_findings\\\\\"+i, 0)\n",
    "    image = cv2.resize(image, (250, 250))\n",
    "    b.append(image)"
   ]
  },
  {
   "cell_type": "code",
   "execution_count": null,
   "metadata": {},
   "outputs": [],
   "source": [
    "b"
   ]
  },
  {
   "cell_type": "code",
   "execution_count": null,
   "metadata": {},
   "outputs": [],
   "source": [
    "X = a+b\n",
    "X = np.array(X)"
   ]
  },
  {
   "cell_type": "code",
   "execution_count": null,
   "metadata": {},
   "outputs": [],
   "source": [
    "X.max()"
   ]
  },
  {
   "cell_type": "code",
   "execution_count": null,
   "metadata": {},
   "outputs": [],
   "source": [
    "X.shape"
   ]
  },
  {
   "cell_type": "code",
   "execution_count": null,
   "metadata": {},
   "outputs": [],
   "source": [
    "y = [1]*len(a) + [0]*len(b)\n",
    "y = np.array(y)"
   ]
  },
  {
   "cell_type": "code",
   "execution_count": null,
   "metadata": {},
   "outputs": [],
   "source": [
    "y.shape"
   ]
  },
  {
   "cell_type": "code",
   "execution_count": null,
   "metadata": {},
   "outputs": [],
   "source": [
    "X_flat = X.reshape(625, -1)/255"
   ]
  },
  {
   "cell_type": "code",
   "execution_count": null,
   "metadata": {},
   "outputs": [],
   "source": [
    "model = linear_model.LogisticRegression()"
   ]
  },
  {
   "cell_type": "code",
   "execution_count": null,
   "metadata": {},
   "outputs": [],
   "source": [
    "cv = model_selection.cross_validate(model, X_flat, y, cv = model_selection.StratifiedKFold(shuffle=True, random_state=42))"
   ]
  },
  {
   "cell_type": "code",
   "execution_count": null,
   "metadata": {},
   "outputs": [],
   "source": [
    "pd.DataFrame(cv)"
   ]
  },
  {
   "cell_type": "code",
   "execution_count": null,
   "metadata": {},
   "outputs": [],
   "source": [
    "X_flat = X.reshape(625, -1)/255"
   ]
  },
  {
   "cell_type": "code",
   "execution_count": null,
   "metadata": {},
   "outputs": [],
   "source": [
    "model = linear_model.LogisticRegression()"
   ]
  },
  {
   "cell_type": "code",
   "execution_count": null,
   "metadata": {},
   "outputs": [],
   "source": [
    "cv = model_selection.cross_validate(model, X_flat, y, cv = model_selection.StratifiedKFold(shuffle=True, random_state=42), return_train_score= True)"
   ]
  },
  {
   "cell_type": "code",
   "execution_count": null,
   "metadata": {},
   "outputs": [],
   "source": [
    "pd.DataFrame(cv)"
   ]
  },
  {
   "cell_type": "code",
   "execution_count": null,
   "metadata": {},
   "outputs": [],
   "source": [
    "X_merged = np.concatenate([\n",
    "    X.mean(axis=(1)),\n",
    "    X.mean(axis=(2)),\n",
    "    X.std(axis=(1)),\n",
    "    X.std(axis=(2)),\n",
    "    X.max(axis=(1)),\n",
    "    X.max(axis=(2)),\n",
    "    X.min(axis=(1)),\n",
    "    X.min(axis=(2)),\n",
    "], axis=1)"
   ]
  },
  {
   "cell_type": "code",
   "execution_count": null,
   "metadata": {},
   "outputs": [],
   "source": [
    "X_merged"
   ]
  },
  {
   "cell_type": "code",
   "execution_count": null,
   "metadata": {},
   "outputs": [],
   "source": [
    "X.shape"
   ]
  },
  {
   "cell_type": "code",
   "execution_count": null,
   "metadata": {},
   "outputs": [],
   "source": [
    "250*250"
   ]
  },
  {
   "cell_type": "code",
   "execution_count": null,
   "metadata": {},
   "outputs": [],
   "source": [
    "X_merged.shape"
   ]
  },
  {
   "cell_type": "code",
   "execution_count": null,
   "metadata": {},
   "outputs": [],
   "source": [
    "cv = model_selection.cross_validate(model, X_merged/255, y,\n",
    "                                    cv = model_selection.StratifiedKFold(shuffle=True, random_state=42),\n",
    "                                    return_train_score= True)"
   ]
  },
  {
   "cell_type": "code",
   "execution_count": null,
   "metadata": {},
   "outputs": [],
   "source": [
    "pd.DataFrame(cv)"
   ]
  },
  {
   "cell_type": "code",
   "execution_count": null,
   "metadata": {},
   "outputs": [],
   "source": [
    "image = cv2.imread(\"X-Ray Image DataSet\\\\positive.png\", 0)\n",
    "image.shape"
   ]
  },
  {
   "cell_type": "code",
   "execution_count": null,
   "metadata": {},
   "outputs": [],
   "source": [
    "image = cv2.resize(image, (250, 250))"
   ]
  },
  {
   "cell_type": "code",
   "execution_count": null,
   "metadata": {},
   "outputs": [],
   "source": [
    "model = linear_model.LogisticRegression(max_iter = 1000)"
   ]
  },
  {
   "cell_type": "code",
   "execution_count": null,
   "metadata": {},
   "outputs": [],
   "source": [
    "model.fit(X_merged/255, y)"
   ]
  },
  {
   "cell_type": "code",
   "execution_count": null,
   "metadata": {},
   "outputs": [],
   "source": [
    "def concat(X):\n",
    "    return np.concatenate([\n",
    "    X.mean(axis=(1)),\n",
    "    X.mean(axis=(2)),\n",
    "    X.std(axis=(1)),\n",
    "    X.std(axis=(2)),\n",
    "    X.max(axis=(1)),\n",
    "    X.max(axis=(2)),\n",
    "    X.min(axis=(1)),\n",
    "    X.min(axis=(2)),\n",
    "], axis=1)\n",
    "    "
   ]
  },
  {
   "cell_type": "code",
   "execution_count": null,
   "metadata": {},
   "outputs": [],
   "source": [
    "image_ = concat(image.reshape(1, 250,250))"
   ]
  },
  {
   "cell_type": "code",
   "execution_count": null,
   "metadata": {},
   "outputs": [],
   "source": [
    "model.predict_proba(image_/255)"
   ]
  },
  {
   "cell_type": "code",
   "execution_count": null,
   "metadata": {},
   "outputs": [],
   "source": [
    "image = cv2.imread(\"X-Ray Image DataSet\\\\positive_.png\", 0)\n",
    "image.shape"
   ]
  },
  {
   "cell_type": "code",
   "execution_count": null,
   "metadata": {},
   "outputs": [],
   "source": [
    "image = cv2.resize(image, (250, 250))"
   ]
  },
  {
   "cell_type": "code",
   "execution_count": null,
   "metadata": {},
   "outputs": [],
   "source": [
    "image_ = concat(image.reshape(1, 250,250))"
   ]
  },
  {
   "cell_type": "code",
   "execution_count": null,
   "metadata": {},
   "outputs": [],
   "source": [
    "model.predict_proba(image_/255)"
   ]
  },
  {
   "cell_type": "code",
   "execution_count": null,
   "metadata": {},
   "outputs": [],
   "source": []
  }
 ],
 "metadata": {
  "kernelspec": {
   "display_name": "my env python3.7",
   "language": "python",
   "name": "dl3.7"
  },
  "language_info": {
   "codemirror_mode": {
    "name": "ipython",
    "version": 3
   },
   "file_extension": ".py",
   "mimetype": "text/x-python",
   "name": "python",
   "nbconvert_exporter": "python",
   "pygments_lexer": "ipython3",
   "version": "3.7.4"
  }
 },
 "nbformat": 4,
 "nbformat_minor": 4
}
